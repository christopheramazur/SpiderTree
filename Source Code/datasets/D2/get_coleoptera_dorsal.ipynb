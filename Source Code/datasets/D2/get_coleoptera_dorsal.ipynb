{
 "cells": [
  {
   "cell_type": "markdown",
   "metadata": {},
   "source": [
    "# Algorithm for downloading images from iDigBio\n",
    "###  (all images are verified by experts)\n",
    "\n",
    "All Coleoptera occurences from iDigBio are obtained and cleaned to preserve only those that have associated image of the dorsal view (head) of the specimens.\n",
    "\n",
    "### NOTE: to download the same images as in our study use this csv file \n",
    "\n",
    "    D2_list_of_filtered_images.csv\n",
    "    \n",
    "    \n",
    "**Input**: multimedia.csv - a list of records from iDigBio obtained with query keywords (\"hasImage\":\"true\" and \"order\":\"Coleoptera\")\n",
    "\n",
    "**Outputs**: images of frontal habitus sorted by family names\n",
    "\n",
    "Procedure: \n",
    "\n",
    "\tStep 1.\n",
    "\t\tcollect:\n",
    "\t\t\t- images with keywords\n",
    "\t\t\t\t- 'dorsal'\n",
    "\t\t\t\t- 'habitus_dor', 'Habitus_dor'\n",
    "\t\t\t\t- '_D.', \"_had\"\n",
    "\t\t\t- images from institutions that provide mainly dorsal view \n",
    "\t\t\t\t- 'Denver Museum of Nature & Science'\n",
    "\t            - 'University of Tennessee at Chattanooga (UTC-UTCI)'\n",
    "\t            - 'United States National Museum, Entomology Collections (USNM-USNMENT)'\n",
    "\t\tskip: \n",
    "\t\t\t- images with keywords: \n",
    "\t\t\t\t- \"lateral\", \"frontal\", \"ventral\", 'anterior'\n",
    "\t\t\t\t- \"head\", 'antenna', \"labels\", \n",
    "\t\t\t\t- 'mesosoma', \"genitalia\"\n",
    "\t\t\t\t- \"_L\", \"_F\", \"_V\", \n",
    "\t\t\t\t- 'web', 'habitus_lat', 'Habitus_lat' \n",
    "\t\t\t\t- \"hed\", \"hef\", \"hal\", \"hed\" (head images) \n",
    "            - images from institutions that provided fossil images\n",
    "\t\tcheck:\n",
    "\t\t\t- from records that are not skipped or collected depict images from poorly represented families \n",
    "\tStep 2.\n",
    "    \t- download images from families with N+ records\n",
    "\t\t- manually check all the images (to avoid drawings, images of labels, etc.)"
   ]
  },
  {
   "cell_type": "code",
   "execution_count": 1,
   "metadata": {},
   "outputs": [],
   "source": [
    "import csv\n",
    "import os\n",
    "import urllib"
   ]
  },
  {
   "cell_type": "code",
   "execution_count": 2,
   "metadata": {},
   "outputs": [
    {
     "name": "stdout",
     "output_type": "stream",
     "text": [
      "true\t\t3506\n",
      "cleaned\t\t147224\n",
      "\n",
      "remained to treat\t25\n",
      "total data\t\t150755\n",
      "\n"
     ]
    }
   ],
   "source": [
    "with open('metadata/multimedia_raw.csv', 'rb') as csvfile:\n",
    "    reader = csv.reader(csvfile)\n",
    "    total_media = 0\n",
    "    remained = []\n",
    "    cleaned_list = []\n",
    "    first_row = []\n",
    "    #iterate over each row and count how many they are\n",
    "    for row in reader:\n",
    "        if first_row == []:\n",
    "            first_row = row\n",
    "        \n",
    "        \n",
    "        total_media +=1\n",
    "        \n",
    "        # and clean row 100 - some institutions provided only photos of labels with insects barelly visible or fossils\n",
    "        # Arizona, Hawaii, Yale, Michigan, Texas\n",
    "        if row[100]  == 'University of Arizona Insect Collection' or\\\n",
    "            row[100] == 'University of Arizona' or\\\n",
    "            row[100] == 'University of Hawaii Insect Museum' or\\\n",
    "            row[100] == 'Invertebrate Paleontology Division, Yale Peabody Museum' or\\\n",
    "            row[100] == 'Department of Bioagricultural Sciences and Pest Management' or\\\n",
    "            row[100] == 'Michigan State University Digitized Collection':\n",
    "            pass\n",
    "       \n",
    "        \n",
    "        # Arizona Hasbrouck OK    \n",
    "        elif row[100]== 'Arizona State University Hasbrouck Insect Collection (ASU-ASUHIC)':\n",
    "            if 'habitus_dor' in row[15] or 'Habitus_dor' in row[15]:\n",
    "                cleaned_list.append(row)\n",
    "            else:\n",
    "                pass\n",
    "            \n",
    "        \n",
    "        \n",
    "        # Texax OK\n",
    "        elif row[100]== 'Museum of Texas Tech University' and 'dorsal' in row[15]:\n",
    "            cleaned_list.append(row)\n",
    "        \n",
    "        elif row[100]== 'Museum of Texas Tech University' and 'lateral' in row[15]:\n",
    "            pass\n",
    "        elif row[100]== 'Museum of Texas Tech University' and 'labels' in row[15]:\n",
    "            pass\n",
    "        \n",
    "        \n",
    "        # Colorado\n",
    "        elif row[100]== 'Colorado Plateau Museum of Arthropod Biodiversity (NAUF-CPMAB)' and '_D.' in row[15]:\n",
    "            cleaned_list.append(row)\n",
    "            \n",
    "        elif row[100]== 'Colorado Plateau Museum of Arthropod Biodiversity (NAUF-CPMAB)' and '_V.' in row[15]:\n",
    "            pass\n",
    "        elif row[100]== 'Colorado Plateau Museum of Arthropod Biodiversity (NAUF-CPMAB)' and '_F.' in row[15]:\n",
    "            pass\n",
    "        elif row[100]== 'Colorado Plateau Museum of Arthropod Biodiversity (NAUF-CPMAB)' and '_L.' in row[15]:\n",
    "            pass\n",
    "        elif row[100]== 'Colorado Plateau Museum of Arthropod Biodiversity (NAUF-CPMAB)' and '_LV.' in row[15]:\n",
    "            pass\n",
    "        elif row[100]== 'Colorado Plateau Museum of Arthropod Biodiversity (NAUF-CPMAB)' and '_L_0' in row[15]:\n",
    "            pass\n",
    "        \n",
    "        \n",
    "        # HARVARD\n",
    "        elif 'Harvard University' in row[100] and '_had' in row[15]:\n",
    "            cleaned_list.append(row)\n",
    "            \n",
    "        elif row[100]== 'Museum of Comparative Zoology, Harvard University' and '_hed' in row[15]:\n",
    "            pass\n",
    "        elif row[100]== 'Museum of Comparative Zoology, Harvard University' and '_hef' in row[15]:\n",
    "            pass\n",
    "        elif row[100]== 'Museum of Comparative Zoology, Harvard University' and '_hal' in row[15]:\n",
    "            pass\n",
    "        elif row[100]== 'Museum of Comparative Zoology, Harvard University' and '_hed' in row[15]:\n",
    "            pass\n",
    "        \n",
    "        # DENVER, TENNESSEE, USNM - these are for mostly dorsal view or lateral in a few cases\n",
    "        elif row[100]== 'Denver Museum of Nature & Science' or\\\n",
    "            row[100]== 'University of Tennessee at Chattanooga (UTC-UTCI)' or\\\n",
    "            row[100]== 'United States National Museum, Entomology Collections (USNM-USNMENT)':\n",
    "            cleaned_list.append(row)\n",
    "        \n",
    "        \n",
    "        # NMSU\n",
    "        elif row[100]== 'NMSU' and '_D' in row[15]:\n",
    "            cleaned_list.append(row)\n",
    "        elif row[100]== 'NMSU' and '_L' in row[15]:\n",
    "            pass\n",
    "        \n",
    "        # also to exclude\n",
    "        elif row[15]=='' or \\\n",
    "            '_F_lg' in row[15] or\\\n",
    "            '_L_lg' in row[15] or\\\n",
    "            '_V_lg' in row[15] or\\\n",
    "            'PALE' in row[15] or \\\n",
    "            'ventral' in row[15] or\\\n",
    "            'head' in row[15] or\\\n",
    "            'lateral' in row[15] or\\\n",
    "            'web' in row[15] or\\\n",
    "            'habitus_lat' in row[15] or\\\n",
    "            'Habitus_lat' in row[15] or\\\n",
    "            'genitalia' in row[15]:\n",
    "            pass\n",
    "        \n",
    "        # get rid the images which are reported as not dorsal view    \n",
    "        elif 'lateral' in row[10] or\\\n",
    "            'ventral' in row[10] or\\\n",
    "            'anterior' in row[10] or\\\n",
    "            'genitalia' in row[10] or\\\n",
    "            'antenna' in row[10] or\\\n",
    "            'mesosoma' in row[10] or\\\n",
    "            'head' in row[10]:\n",
    "            pass   \n",
    "        \n",
    "        # how many images are not treated\n",
    "        else:   \n",
    "            remained.append(row)\n",
    "            \n",
    "\n",
    "print 'true\\t\\t' , len(cleaned_list)\n",
    "print 'cleaned\\t\\t', total_media- len(cleaned_list)- len(remained)\n",
    "print\n",
    "print 'remained to treat\\t', len(remained)\n",
    "print 'total data\\t\\t', total_media\n",
    "print"
   ]
  },
  {
   "cell_type": "markdown",
   "metadata": {},
   "source": [
    "#### next, we checked institutions which we still have to treat"
   ]
  },
  {
   "cell_type": "code",
   "execution_count": 3,
   "metadata": {
    "scrolled": false
   },
   "outputs": [
    {
     "name": "stdout",
     "output_type": "stream",
     "text": [
      "1 xmpRights:Owner \n",
      "\n",
      "14 Museum of Texas Tech University \n",
      "\n",
      "9 Colorado Plateau Museum of Arthropod Biodiversity (NAUF-CPMAB) \n",
      "\n",
      "1 NMSU \n",
      "\n"
     ]
    }
   ],
   "source": [
    "to_treat={}\n",
    "for row in remained:\n",
    "    if row[100] in to_treat.keys():\n",
    "        to_treat[row[100]]+=1\n",
    "    else:\n",
    "        to_treat[row[100]]=1\n",
    "for key in to_treat:\n",
    "    print to_treat[key], key, '\\n'"
   ]
  },
  {
   "cell_type": "markdown",
   "metadata": {},
   "source": [
    "### save the list as csv file and add the titles in the first row"
   ]
  },
  {
   "cell_type": "code",
   "execution_count": 5,
   "metadata": {},
   "outputs": [],
   "source": [
    "cleaned_list.insert(0, first_row)\n",
    "\n",
    "with open('metadata/cleaned_head.csv', 'wb') as myfile:\n",
    "    wr = csv.writer(myfile, quoting=csv.QUOTE_ALL)\n",
    "    for row in range(len(cleaned_list)):\n",
    "        wr.writerow(cleaned_list[row])"
   ]
  },
  {
   "cell_type": "code",
   "execution_count": 6,
   "metadata": {},
   "outputs": [],
   "source": [
    "remained.insert(0, first_row)\n",
    "with open('metadata/remained.csv', 'wb') as myfile:\n",
    "    wr = csv.writer(myfile, quoting=csv.QUOTE_ALL)\n",
    "    for row in range(len(remained)):\n",
    "        wr.writerow(remained[row])"
   ]
  },
  {
   "cell_type": "markdown",
   "metadata": {
    "collapsed": true
   },
   "source": [
    "# download the images \n",
    "from **cleaned_head.csv** and if you wish add manually more examples  from **remained.csv** for families with fewer examples"
   ]
  },
  {
   "cell_type": "code",
   "execution_count": 7,
   "metadata": {},
   "outputs": [],
   "source": [
    "def download_all(records, dictionary, save_to, tax_level = 'family', num=25):\n",
    "    if tax_level == 'genus':\n",
    "        level = 4\n",
    "    else:\n",
    "        level = 3\n",
    "    for key in dictionary.keys():\n",
    "        if len(dictionary[key])>num:\n",
    "            print \n",
    "            print len(dictionary[key]), key\n",
    "            print\n",
    "            directory = save_to + '/' + key\n",
    "            if not os.path.exists(directory):\n",
    "                os.makedirs(directory)\n",
    "            for value in dictionary[key]:\n",
    "                for i in records:\n",
    "                    if value == i[0]:\n",
    "                        print i[level]\n",
    "                        try:\n",
    "                            urllib.urlretrieve(i[1], directory+'/'+i[2]+\".jpg\")\n",
    "                        except:\n",
    "                            pass"
   ]
  },
  {
   "cell_type": "code",
   "execution_count": 8,
   "metadata": {},
   "outputs": [],
   "source": [
    "with open('metadata/cleaned_head.csv', 'rb') as csv1:\n",
    "    dorsal = csv.reader(csv1)\n",
    "    records = []\n",
    "    record = []\n",
    "    for row in dorsal:\n",
    "        fullname = row[85].replace(' ', '_')\n",
    "        record = [row[0], row[5], fullname]\n",
    "        records.append(record)\n",
    "    records=records[1:]    \n",
    "\n",
    "    coreIDs = []\n",
    "    for i in records:\n",
    "        coreIDs.append(i[0])"
   ]
  },
  {
   "cell_type": "code",
   "execution_count": 9,
   "metadata": {},
   "outputs": [],
   "source": [
    "with open('metadata/occurrence_raw.csv', 'rb') as csv2:\n",
    "    reader = csv.reader(csv2)\n",
    "    family ={}\n",
    "    genus = {}\n",
    "    for row in reader:\n",
    "        #append to records family and genus\n",
    "        for i in records:\n",
    "            if row[0] == i[0]:\n",
    "                i.append(row[56])\n",
    "                i.append(row[61])\n",
    "                \n",
    "                if row[56] in family.keys():\n",
    "                    family[row[56]].append(row[0])\n",
    "                    if row[61] in genus.keys():\n",
    "                        genus[row[61]].append(row[0])\n",
    "\n",
    "                    else:\n",
    "                        genus[row[61]] = []\n",
    "                        genus[row[61]].append(row[0])\n",
    "                else:\n",
    "                    family[row[56]] = []\n",
    "                    family[row[56]].append(row[0])"
   ]
  },
  {
   "cell_type": "code",
   "execution_count": null,
   "metadata": {},
   "outputs": [
    {
     "name": "stdout",
     "output_type": "stream",
     "text": [
      "\n",
      "95 Anthribidae\n",
      "\n",
      "Anthribidae\n",
      "Anthribidae\n",
      "Anthribidae\n",
      "Anthribidae\n",
      "Anthribidae\n",
      "Anthribidae\n",
      "Anthribidae\n",
      "Anthribidae\n",
      "Anthribidae\n",
      "Anthribidae\n"
     ]
    }
   ],
   "source": [
    "download_all(records, family, 'family', num=18)"
   ]
  },
  {
   "cell_type": "markdown",
   "metadata": {},
   "source": [
    "# make sure you examine and clean your dataset manually\n",
    "\n",
    "### or you can simply download filtered images a list we provided \n",
    "\n",
    "    D2_list_of_filtered_images.csv"
   ]
  },
  {
   "cell_type": "code",
   "execution_count": null,
   "metadata": {},
   "outputs": [],
   "source": []
  }
 ],
 "metadata": {
  "kernelspec": {
   "display_name": "Python 2",
   "language": "python",
   "name": "python2"
  },
  "language_info": {
   "codemirror_mode": {
    "name": "ipython",
    "version": 2
   },
   "file_extension": ".py",
   "mimetype": "text/x-python",
   "name": "python",
   "nbconvert_exporter": "python",
   "pygments_lexer": "ipython2",
   "version": "2.7.12"
  }
 },
 "nbformat": 4,
 "nbformat_minor": 1
}
