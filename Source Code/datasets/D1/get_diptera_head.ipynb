def download_all(records, dictionary, save_to, tax_level = 'family', num=25):
    if tax_level == 'genus':
        level = 4
    else:
        level = 3
    for key in dictionary.keys():
        if len(dictionary[key])>num:
            print()
            print(len(dictionary[key]), key)
            print()
            directory = save_to + '/' + key
            if not os.path.exists(directory):
                os.makedirs(directory)
            for value in dictionary[key]:
                for i in records:
                    if value == i[0]:
                        print (i[level])
                        urllib.urlretrieve(i[1], directory+'/'+i[2]+".jpg")
                        
with open('D1_list_of_filtered_images.csv', 'rt') as csv1:
    dorsal = csv.reader(csv1)
    records = []
    record = []
    for row in dorsal:
        records.append(row)
    family ={}
    genus = {}
    for row in dorsal:
        #append to records family and genus
        for i in records:
            if row[0] == i[0]:
                if row[56] in family.keys():
                    family[row[56]].append(row[0])
                    if row[61] in genus.keys():
                        genus[row[61]].append(row[0])
                    else:
                        genus[row[61]] = []
                        genus[row[61]].append(row[0])
                else:
                    family[row[56]] = []
                    family[row[56]].append(row[0])




    download_all(records, family, 'family', num=25)

