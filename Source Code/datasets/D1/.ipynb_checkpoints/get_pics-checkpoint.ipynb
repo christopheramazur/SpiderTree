{
 "cells": [
  {
   "cell_type": "code",
   "execution_count": null,
   "metadata": {
    "pycharm": {
     "is_executing": true,
     "name": "#%%\n"
    }
   },
   "outputs": [
    {
     "name": "stdout",
     "output_type": "stream",
     "text": [
      "True\n",
      "True\n",
      "True\n",
      "True\n",
      "True\n",
      "True\n",
      "True\n",
      "True\n",
      "True\n",
      "True\n",
      "True\n",
      "True\n",
      "True\n",
      "True\n",
      "True\n",
      "True\n",
      "True\n",
      "True\n",
      "True\n",
      "True\n",
      "True\n",
      "True\n",
      "True\n",
      "True\n",
      "True\n",
      "True\n",
      "True\n",
      "True\n",
      "True\n",
      "True\n",
      "True\n",
      "True\n",
      "True\n",
      "True\n",
      "True\n",
      "True\n",
      "True\n",
      "True\n",
      "True\n",
      "True\n",
      "True\n",
      "True\n",
      "True\n",
      "True\n",
      "True\n",
      "True\n",
      "True\n",
      "True\n",
      "True\n",
      "True\n",
      "True\n",
      "True\n",
      "True\n",
      "True\n",
      "True\n",
      "True\n",
      "True\n",
      "True\n",
      "True\n",
      "True\n",
      "False\n",
      "False\n",
      "Grabbing image #32 at url http://mczbase.mcz.harvard.edu/specimen_images/entomology/large/MCZ-ENT00007658_Microdon_abnormis_hef.jpg\n"
     ]
    }
   ],
   "source": [
    "#%%\n",
    "import csv\n",
    "import os\n",
    "import urllib\n",
    "                        \n",
    "with open('D1_list_of_filtered_images.csv', 'rt') as csv1:\n",
    "    dorsal = csv.reader(csv1)\n",
    "    if not os.path.exists(\"./images\"):\n",
    "        os.makedirs(\"./images\")\n",
    "\n",
    "    count = 0\n",
    "    for row in dorsal:\n",
    "        count = count+1\n",
    "        if row[1] != \"url\":\n",
    "            check = \"./images/\" + row[2] + \"_\" + row[3] + \"_\" + row[4] + \".jpg\"\n",
    "            print(str(os.path.exists(check)))\n",
    "            if not os.path.exists(check):\n",
    "                print (\"Grabbing image #\" + str(count) + \" at url \" + row[1])\n",
    "                urllib.request.urlretrieve(row[1], \"./images/\" + row[2] + \"_\" + row[3] + \"_\" + row[4] + \".jpg\")\n"
   ]
  },
  {
   "cell_type": "code",
   "execution_count": null,
   "metadata": {},
   "outputs": [],
   "source": []
  },
  {
   "cell_type": "code",
   "execution_count": null,
   "metadata": {},
   "outputs": [],
   "source": []
  }
 ],
 "metadata": {
  "kernelspec": {
   "display_name": "PyCharm (SpiderTree)",
   "language": "python",
   "name": "pycharm-98a829c8"
  },
  "language_info": {
   "codemirror_mode": {
    "name": "ipython",
    "version": 3
   },
   "file_extension": ".py",
   "mimetype": "text/x-python",
   "name": "python",
   "nbconvert_exporter": "python",
   "pygments_lexer": "ipython3",
   "version": "3.7.5rc1"
  },
  "pycharm": {
   "stem_cell": {
    "cell_type": "raw",
    "metadata": {
     "collapsed": false
    },
    "source": []
   }
  }
 },
 "nbformat": 4,
 "nbformat_minor": 1
}
